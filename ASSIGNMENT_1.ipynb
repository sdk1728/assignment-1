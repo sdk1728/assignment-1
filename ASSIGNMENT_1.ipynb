{
 "cells": [
  {
   "cell_type": "markdown",
   "id": "2eaaaebf",
   "metadata": {},
   "source": [
    "## 1. In the below elements which of them are values or an expression? eg:- values can be integer or string and expressions will be mathematical operators."
   ]
  },
  {
   "cell_type": "code",
   "execution_count": 1,
   "id": "127c3569",
   "metadata": {},
   "outputs": [],
   "source": [
    "# VALUES= \"hello\",87.8,6\n",
    "# expression= *-/+"
   ]
  },
  {
   "cell_type": "markdown",
   "id": "aa6fac20",
   "metadata": {},
   "source": [
    "## 2. What is the difference between string and variable?"
   ]
  },
  {
   "cell_type": "code",
   "execution_count": 2,
   "id": "02dd22d6",
   "metadata": {},
   "outputs": [],
   "source": [
    "# in varible we actually store/assign the datatypes like string,integer, boolean etc.\n",
    "# and string is one of the datatype which is assigned as variable.data of string is stored using \" \"."
   ]
  },
  {
   "cell_type": "markdown",
   "id": "00d1a1dd",
   "metadata": {},
   "source": [
    "## 3. Describe three different data types."
   ]
  },
  {
   "cell_type": "code",
   "execution_count": 3,
   "id": "9b09949f",
   "metadata": {},
   "outputs": [],
   "source": [
    "# datatypes- text data, numerical data, sequence data, mapping data"
   ]
  },
  {
   "cell_type": "markdown",
   "id": "e0bbe98f",
   "metadata": {},
   "source": [
    "## 4. What is an expression made up of? What do all expressions do?"
   ]
  },
  {
   "cell_type": "code",
   "execution_count": 4,
   "id": "4b928c83",
   "metadata": {},
   "outputs": [
    {
     "data": {
      "text/plain": [
       "11"
      ]
     },
     "execution_count": 4,
     "metadata": {},
     "output_type": "execute_result"
    }
   ],
   "source": [
    "# expression is a combination of operators and operands which gives the final value.\n",
    "#example\n",
    "a=5\n",
    "b=6\n",
    "a+b                              # a+b is an expression."
   ]
  },
  {
   "cell_type": "code",
   "execution_count": null,
   "id": "c9f7a41d",
   "metadata": {},
   "outputs": [],
   "source": []
  },
  {
   "cell_type": "markdown",
   "id": "f2a94f7a",
   "metadata": {},
   "source": [
    "## 5. This assignment statements, like spam = 10. What is the difference between an expression and a statement?"
   ]
  },
  {
   "cell_type": "code",
   "execution_count": 5,
   "id": "eab465de",
   "metadata": {},
   "outputs": [
    {
     "ename": "SyntaxError",
     "evalue": "cannot assign to operator (Temp/ipykernel_10416/3607206799.py, line 3)",
     "output_type": "error",
     "traceback": [
      "\u001b[1;36m  File \u001b[1;32m\"C:\\Users\\HP\\AppData\\Local\\Temp/ipykernel_10416/3607206799.py\"\u001b[1;36m, line \u001b[1;32m3\u001b[0m\n\u001b[1;33m    a+b=c - is a statement\u001b[0m\n\u001b[1;37m    ^\u001b[0m\n\u001b[1;31mSyntaxError\u001b[0m\u001b[1;31m:\u001b[0m cannot assign to operator\n"
     ]
    }
   ],
   "source": [
    "# expression evalutes another value whereas statements does not evaluate,it is a line of python code, even expression is also a statement\n",
    "# example.\n",
    "#  a+b=c - is a statement\n",
    "#  a+b   - is an expression."
   ]
  },
  {
   "cell_type": "markdown",
   "id": "b79c0415",
   "metadata": {},
   "source": [
    "## 6. After running the following code, what does the variable bacon contain?\n",
    "bacon = 22\n",
    "\n",
    "bacon + 1\n"
   ]
  },
  {
   "cell_type": "code",
   "execution_count": 6,
   "id": "de14df09",
   "metadata": {},
   "outputs": [],
   "source": [
    "bacon=22"
   ]
  },
  {
   "cell_type": "code",
   "execution_count": 7,
   "id": "c3a21e29",
   "metadata": {},
   "outputs": [
    {
     "data": {
      "text/plain": [
       "23"
      ]
     },
     "execution_count": 7,
     "metadata": {},
     "output_type": "execute_result"
    }
   ],
   "source": [
    "bacon+1"
   ]
  },
  {
   "cell_type": "code",
   "execution_count": 8,
   "id": "5e025333",
   "metadata": {},
   "outputs": [],
   "source": [
    "# variable bacon contain 23"
   ]
  },
  {
   "cell_type": "markdown",
   "id": "c6f9f675",
   "metadata": {},
   "source": [
    "## 7. What should the values of the following two terms be?\n",
    "'spam' + 'spamspam'\n",
    "\n",
    "'spam' * 3\n"
   ]
  },
  {
   "cell_type": "code",
   "execution_count": 9,
   "id": "324e793b",
   "metadata": {},
   "outputs": [
    {
     "data": {
      "text/plain": [
       "'spamspamspam'"
      ]
     },
     "execution_count": 9,
     "metadata": {},
     "output_type": "execute_result"
    }
   ],
   "source": [
    "\"spam\"+\"spamspam\""
   ]
  },
  {
   "cell_type": "code",
   "execution_count": 10,
   "id": "f7c9f810",
   "metadata": {},
   "outputs": [
    {
     "data": {
      "text/plain": [
       "'spamspamspam'"
      ]
     },
     "execution_count": 10,
     "metadata": {},
     "output_type": "execute_result"
    }
   ],
   "source": [
    "\"spam\"*3"
   ]
  },
  {
   "cell_type": "markdown",
   "id": "953810cf",
   "metadata": {},
   "source": [
    "## 8. Why is eggs a valid variable name while 100 is invalid?"
   ]
  },
  {
   "cell_type": "code",
   "execution_count": 18,
   "id": "d1544ea8",
   "metadata": {},
   "outputs": [],
   "source": [
    "# in python we can not assign variable as integer.\n",
    "# variables are assigned to the literal functions like string and integer.\n"
   ]
  },
  {
   "cell_type": "markdown",
   "id": "dd01c910",
   "metadata": {},
   "source": [
    "## 9. What three functions can be used to get the integer, floating-point number, or string version of a value?"
   ]
  },
  {
   "cell_type": "code",
   "execution_count": 21,
   "id": "e3794ec0",
   "metadata": {},
   "outputs": [],
   "source": [
    "a=12.56"
   ]
  },
  {
   "cell_type": "code",
   "execution_count": 22,
   "id": "544b1801",
   "metadata": {},
   "outputs": [
    {
     "data": {
      "text/plain": [
       "12"
      ]
     },
     "execution_count": 22,
     "metadata": {},
     "output_type": "execute_result"
    }
   ],
   "source": [
    "int(a)"
   ]
  },
  {
   "cell_type": "code",
   "execution_count": 23,
   "id": "3a3775b9",
   "metadata": {},
   "outputs": [
    {
     "data": {
      "text/plain": [
       "12.56"
      ]
     },
     "execution_count": 23,
     "metadata": {},
     "output_type": "execute_result"
    }
   ],
   "source": [
    "float(a)"
   ]
  },
  {
   "cell_type": "code",
   "execution_count": 31,
   "id": "638b349b",
   "metadata": {},
   "outputs": [],
   "source": [
    "a=str(\"12.56\")"
   ]
  },
  {
   "cell_type": "code",
   "execution_count": 32,
   "id": "e858e3fe",
   "metadata": {},
   "outputs": [
    {
     "data": {
      "text/plain": [
       "'12.56'"
      ]
     },
     "execution_count": 32,
     "metadata": {},
     "output_type": "execute_result"
    }
   ],
   "source": [
    "a"
   ]
  },
  {
   "cell_type": "markdown",
   "id": "68c39121",
   "metadata": {},
   "source": [
    "## 10.Why does this expression cause an error? How can you fix it?\n",
    "'I have eaten ' + 99 + ' burritos.'\n"
   ]
  },
  {
   "cell_type": "code",
   "execution_count": 36,
   "id": "5d07167b",
   "metadata": {},
   "outputs": [
    {
     "data": {
      "text/plain": [
       "'i have eaten 99 burritos'"
      ]
     },
     "execution_count": 36,
     "metadata": {},
     "output_type": "execute_result"
    }
   ],
   "source": [
    "# because 99 is not a string ,to do an addition of string everything should be in the form of string,\n",
    "#ie.\n",
    "\"i have eaten \"+\"99 \"+\"burritos\""
   ]
  },
  {
   "cell_type": "code",
   "execution_count": null,
   "id": "2dba69a8",
   "metadata": {},
   "outputs": [],
   "source": []
  }
 ],
 "metadata": {
  "kernelspec": {
   "display_name": "Python 3 (ipykernel)",
   "language": "python",
   "name": "python3"
  },
  "language_info": {
   "codemirror_mode": {
    "name": "ipython",
    "version": 3
   },
   "file_extension": ".py",
   "mimetype": "text/x-python",
   "name": "python",
   "nbconvert_exporter": "python",
   "pygments_lexer": "ipython3",
   "version": "3.9.7"
  }
 },
 "nbformat": 4,
 "nbformat_minor": 5
}
